{
 "cells": [
  {
   "cell_type": "markdown",
   "id": "d9bcdbd2-3401-41ad-a83f-830e9346e607",
   "metadata": {
    "id": "d9bcdbd2-3401-41ad-a83f-830e9346e607"
   },
   "source": [
    "# **Applied Machine Learning Homework 5**\n",
    "**Due 2 May,2022 (Monday) 11:59PM EST**"
   ]
  },
  {
   "cell_type": "markdown",
   "id": "70df26be-5638-4b0d-a252-4437eb76aa46",
   "metadata": {
    "id": "70df26be-5638-4b0d-a252-4437eb76aa46"
   },
   "source": [
    "### Natural Language Processing\n",
    "We will train a supervised training model to predict if a tweet has a positive or negative sentiment."
   ]
  },
  {
   "cell_type": "markdown",
   "id": "2e0d9a19-25ea-4490-b0e8-7909bcdc3d9d",
   "metadata": {
    "id": "2e0d9a19-25ea-4490-b0e8-7909bcdc3d9d"
   },
   "source": [
    "####  **Dataset loading & dev/test splits**"
   ]
  },
  {
   "cell_type": "markdown",
   "id": "fafa37c4-c8fc-4697-9bbe-11539d710bf7",
   "metadata": {
    "id": "fafa37c4-c8fc-4697-9bbe-11539d710bf7"
   },
   "source": [
    "**1.1) Load the twitter dataset from NLTK library**"
   ]
  },
  {
   "cell_type": "code",
   "execution_count": 1,
   "id": "375d4af3",
   "metadata": {},
   "outputs": [
    {
     "name": "stderr",
     "output_type": "stream",
     "text": [
      "[nltk_data] Downloading package stopwords to\n",
      "[nltk_data]     /Users/davitbarblishvili/nltk_data...\n",
      "[nltk_data]   Package stopwords is already up-to-date!\n",
      "[nltk_data] Downloading package twitter_samples to\n",
      "[nltk_data]     /Users/davitbarblishvili/nltk_data...\n",
      "[nltk_data]   Package twitter_samples is already up-to-date!\n"
     ]
    }
   ],
   "source": [
    "\n",
    "import re\n",
    "import nltk\n",
    "import numpy as np\n",
    "import pandas as pd\n",
    "nltk.download('stopwords')\n",
    "nltk.download('twitter_samples')\n",
    "from nltk.corpus import stopwords\n",
    "from nltk.stem import PorterStemmer\n",
    "from nltk.corpus import twitter_samples \n",
    "from sklearn.model_selection import train_test_split\n",
    "from sklearn.linear_model import LogisticRegressionCV, LogisticRegression\n",
    "from nltk.tokenize import sent_tokenize, word_tokenize\n",
    "from sklearn.feature_extraction.text import TfidfVectorizer, CountVectorizer"
   ]
  },
  {
   "cell_type": "markdown",
   "id": "c41d62ce-3c78-4b6c-9238-111d990d170f",
   "metadata": {
    "id": "c41d62ce-3c78-4b6c-9238-111d990d170f"
   },
   "source": [
    "**1.2) Load the positive & negative tweets**"
   ]
  },
  {
   "cell_type": "code",
   "execution_count": 2,
   "id": "b92fb408-f72a-4c23-acd8-7c944a52edd3",
   "metadata": {
    "id": "b92fb408-f72a-4c23-acd8-7c944a52edd3"
   },
   "outputs": [],
   "source": [
    "all_positive_tweets = twitter_samples.strings('positive_tweets.json')\n",
    "all_negative_tweets = twitter_samples.strings('negative_tweets.json')\n"
   ]
  },
  {
   "cell_type": "markdown",
   "id": "12eae071-fd8a-4a46-9958-0525c635fd88",
   "metadata": {
    "id": "12eae071-fd8a-4a46-9958-0525c635fd88"
   },
   "source": [
    "**1.3) Create a development & test split (80/20 ratio):**"
   ]
  },
  {
   "cell_type": "code",
   "execution_count": 3,
   "id": "0f3673db-d7a8-470b-a3d3-f4522cd359b8",
   "metadata": {
    "id": "0f3673db-d7a8-470b-a3d3-f4522cd359b8"
   },
   "outputs": [
    {
     "data": {
      "text/html": [
       "<div>\n",
       "<style scoped>\n",
       "    .dataframe tbody tr th:only-of-type {\n",
       "        vertical-align: middle;\n",
       "    }\n",
       "\n",
       "    .dataframe tbody tr th {\n",
       "        vertical-align: top;\n",
       "    }\n",
       "\n",
       "    .dataframe thead th {\n",
       "        text-align: right;\n",
       "    }\n",
       "</style>\n",
       "<table border=\"1\" class=\"dataframe\">\n",
       "  <thead>\n",
       "    <tr style=\"text-align: right;\">\n",
       "      <th></th>\n",
       "      <th>tweet</th>\n",
       "      <th>sentiment</th>\n",
       "    </tr>\n",
       "  </thead>\n",
       "  <tbody>\n",
       "    <tr>\n",
       "      <th>0</th>\n",
       "      <td>#FollowFriday @France_Inte @PKuchly57 @Milipol...</td>\n",
       "      <td>1</td>\n",
       "    </tr>\n",
       "    <tr>\n",
       "      <th>1</th>\n",
       "      <td>@Lamb2ja Hey James! How odd :/ Please call our...</td>\n",
       "      <td>1</td>\n",
       "    </tr>\n",
       "    <tr>\n",
       "      <th>2</th>\n",
       "      <td>@DespiteOfficial we had a listen last night :)...</td>\n",
       "      <td>1</td>\n",
       "    </tr>\n",
       "    <tr>\n",
       "      <th>3</th>\n",
       "      <td>@97sides CONGRATS :)</td>\n",
       "      <td>1</td>\n",
       "    </tr>\n",
       "    <tr>\n",
       "      <th>4</th>\n",
       "      <td>yeaaaah yippppy!!!  my accnt verified rqst has...</td>\n",
       "      <td>1</td>\n",
       "    </tr>\n",
       "    <tr>\n",
       "      <th>...</th>\n",
       "      <td>...</td>\n",
       "      <td>...</td>\n",
       "    </tr>\n",
       "    <tr>\n",
       "      <th>4995</th>\n",
       "      <td>I wanna change my avi but uSanele :(</td>\n",
       "      <td>0</td>\n",
       "    </tr>\n",
       "    <tr>\n",
       "      <th>4996</th>\n",
       "      <td>MY PUPPY BROKE HER FOOT :(</td>\n",
       "      <td>0</td>\n",
       "    </tr>\n",
       "    <tr>\n",
       "      <th>4997</th>\n",
       "      <td>where's all the jaebum baby pictures :((</td>\n",
       "      <td>0</td>\n",
       "    </tr>\n",
       "    <tr>\n",
       "      <th>4998</th>\n",
       "      <td>But but Mr Ahmad Maslan cooks too :( https://t...</td>\n",
       "      <td>0</td>\n",
       "    </tr>\n",
       "    <tr>\n",
       "      <th>4999</th>\n",
       "      <td>@eawoman As a Hull supporter I am expecting a ...</td>\n",
       "      <td>0</td>\n",
       "    </tr>\n",
       "  </tbody>\n",
       "</table>\n",
       "<p>10000 rows × 2 columns</p>\n",
       "</div>"
      ],
      "text/plain": [
       "                                                  tweet  sentiment\n",
       "0     #FollowFriday @France_Inte @PKuchly57 @Milipol...          1\n",
       "1     @Lamb2ja Hey James! How odd :/ Please call our...          1\n",
       "2     @DespiteOfficial we had a listen last night :)...          1\n",
       "3                                  @97sides CONGRATS :)          1\n",
       "4     yeaaaah yippppy!!!  my accnt verified rqst has...          1\n",
       "...                                                 ...        ...\n",
       "4995               I wanna change my avi but uSanele :(          0\n",
       "4996                         MY PUPPY BROKE HER FOOT :(          0\n",
       "4997           where's all the jaebum baby pictures :((          0\n",
       "4998  But but Mr Ahmad Maslan cooks too :( https://t...          0\n",
       "4999  @eawoman As a Hull supporter I am expecting a ...          0\n",
       "\n",
       "[10000 rows x 2 columns]"
      ]
     },
     "execution_count": 3,
     "metadata": {},
     "output_type": "execute_result"
    }
   ],
   "source": [
    "#code here\n",
    "neg_tweet_df = pd.DataFrame(all_negative_tweets, columns=['tweet'])\n",
    "pos_tweet_df = pd.DataFrame(all_positive_tweets, columns=['tweet'])\n",
    "pos_tweet_df['sentiment'] = 1\n",
    "neg_tweet_df['sentiment'] = 0\n",
    "\n",
    "  \n",
    "result = pd.concat([pos_tweet_df, neg_tweet_df,])\n",
    "result\n"
   ]
  },
  {
   "cell_type": "code",
   "execution_count": 4,
   "id": "a358157c",
   "metadata": {},
   "outputs": [
    {
     "name": "stdout",
     "output_type": "stream",
     "text": [
      "2389    @RafaelAllmark I've been supporting you since ...\n",
      "4275    @KirkHerbstreit Braxton should have gone pro! ...\n",
      "2995    @WilliamHC3 Hi! Would you like an @imPastel co...\n",
      "316                    @BOYBANDSFTCARA sure!!! Sorry :( x\n",
      "356     Good luck to #LizaMinnelli for her upcoming UK...\n",
      "Name: tweet, dtype: object\n",
      "---------------\n",
      "4394                              rip whitney houston. :(\n",
      "898     @tmhcuddly I'm so excited, we should definitel...\n",
      "2398    Yisss! #bindingofissac ! Been waiting for #xbo...\n",
      "906     Twitter Help Center | Why can&amp;#39;t I foll...\n",
      "2343    My mister is the best mister :) supportive, ki...\n",
      "Name: tweet, dtype: object\n",
      "---------------\n",
      "2389    0\n",
      "4275    0\n",
      "2995    1\n",
      "316     0\n",
      "356     1\n",
      "Name: sentiment, dtype: int64\n",
      "---------------\n",
      "4394    0\n",
      "898     1\n",
      "2398    1\n",
      "906     0\n",
      "2343    1\n",
      "Name: sentiment, dtype: int64\n",
      "---------------\n"
     ]
    }
   ],
   "source": [
    "X_dev, X_test, y_dev, y_test = \\\n",
    "    train_test_split(result['tweet'], result['sentiment'], test_size=0.2, random_state=0)\n",
    "\n",
    "print(X_dev.head())\n",
    "print('---------------')\n",
    "print(X_test.head())\n",
    "print('---------------')\n",
    "print(y_dev.head())\n",
    "print('---------------')\n",
    "print(y_test.head())\n",
    "print('---------------')"
   ]
  },
  {
   "cell_type": "markdown",
   "id": "32b23398-e80e-4624-b89e-c02fabfd3f8d",
   "metadata": {
    "id": "32b23398-e80e-4624-b89e-c02fabfd3f8d"
   },
   "source": [
    "#### **Data preprocessing**\n",
    "We will do some data preprocessing before we tokenize the data. We will remove `#` symbol, hyperlinks, stop words & punctuations from the data. You can use the `re` package in python to find and replace these strings. "
   ]
  },
  {
   "cell_type": "markdown",
   "id": "f89d9d69-1640-4583-a7b7-7ec04ccf3310",
   "metadata": {
    "id": "f89d9d69-1640-4583-a7b7-7ec04ccf3310"
   },
   "source": [
    "**1.4) Replace the `#` symbol with '' in every tweet**"
   ]
  },
  {
   "cell_type": "code",
   "execution_count": 5,
   "id": "5db4dd6d-e775-49d3-96e1-57620c042d46",
   "metadata": {
    "id": "5db4dd6d-e775-49d3-96e1-57620c042d46"
   },
   "outputs": [
    {
     "data": {
      "text/plain": [
       "2389    @RafaelAllmark I've been supporting you since ...\n",
       "4275    @KirkHerbstreit Braxton should have gone pro! ...\n",
       "2995    @WilliamHC3 Hi! Would you like an @imPastel co...\n",
       "316                    @BOYBANDSFTCARA sure!!! Sorry :( x\n",
       "356     Good luck to ''LizaMinnelli for her upcoming U...\n",
       "                              ...                        \n",
       "4225          @Jenna_Marbles I wish I could've met you :(\n",
       "4859    Computer ''sex? Count me in ! :) ''funny ''vin...\n",
       "3264    @ghostfinder no worries :) I don't blame you h...\n",
       "4845                     @FurretTails awww poor bunny. :(\n",
       "2732                               @Korku_3 thanks bro :)\n",
       "Name: tweet, Length: 8000, dtype: object"
      ]
     },
     "execution_count": 5,
     "metadata": {},
     "output_type": "execute_result"
    }
   ],
   "source": [
    "#code here\n",
    "X_dev.replace(to_replace=\"\\#\", value=r\"''\", regex=True, inplace=True)\n",
    "X_dev\n"
   ]
  },
  {
   "cell_type": "code",
   "execution_count": 6,
   "id": "da299946",
   "metadata": {},
   "outputs": [
    {
     "data": {
      "text/plain": [
       "4394                              rip whitney houston. :(\n",
       "898     @tmhcuddly I'm so excited, we should definitel...\n",
       "2398    Yisss! ''bindingofissac ! Been waiting for ''x...\n",
       "906     Twitter Help Center | Why can&amp;''39;t I fol...\n",
       "2343    My mister is the best mister :) supportive, ki...\n",
       "                              ...                        \n",
       "1037    @marshyymiullow you have a weird DP, you know? :p\n",
       "2899                         @PhilRAWRLester okay then :)\n",
       "4549                    2 bach :( https://t.co/dPRNCcNEZd\n",
       "2740    Look what arrived for me today... Super thanks...\n",
       "1690    Rly sad that I had to rush off when that was t...\n",
       "Name: tweet, Length: 2000, dtype: object"
      ]
     },
     "execution_count": 6,
     "metadata": {},
     "output_type": "execute_result"
    }
   ],
   "source": [
    "#code here\n",
    "X_test.replace(to_replace=\"\\#\", value=r\"''\", regex=True, inplace=True)\n",
    "X_test\n"
   ]
  },
  {
   "cell_type": "markdown",
   "id": "24c4caa8-d71d-46a8-8859-a8e85c56acfe",
   "metadata": {
    "id": "24c4caa8-d71d-46a8-8859-a8e85c56acfe"
   },
   "source": [
    "**1.5) Replace hyperlinks with '' in every tweet**"
   ]
  },
  {
   "cell_type": "code",
   "execution_count": 7,
   "id": "ff5a7411-df49-427b-adef-5e8e63224db0",
   "metadata": {
    "id": "ff5a7411-df49-427b-adef-5e8e63224db0"
   },
   "outputs": [
    {
     "data": {
      "text/plain": [
       "2389    @RafaelAllmark I've been supporting you since ...\n",
       "4275    @KirkHerbstreit Braxton should have gone pro! ...\n",
       "2995    @WilliamHC3 Hi! Would you like an @imPastel co...\n",
       "316                    @BOYBANDSFTCARA sure!!! Sorry :( x\n",
       "356     Good luck to ''LizaMinnelli for her upcoming U...\n",
       "                              ...                        \n",
       "4225          @Jenna_Marbles I wish I could've met you :(\n",
       "4859    Computer ''sex? Count me in ! :) ''funny ''vin...\n",
       "3264    @ghostfinder no worries :) I don't blame you h...\n",
       "4845                     @FurretTails awww poor bunny. :(\n",
       "2732                               @Korku_3 thanks bro :)\n",
       "Name: tweet, Length: 8000, dtype: object"
      ]
     },
     "execution_count": 7,
     "metadata": {},
     "output_type": "execute_result"
    }
   ],
   "source": [
    "#code here\n",
    "X_dev.replace(to_replace=\"\\#\", value=r\"\", regex=True, inplace=True)\n",
    "\n",
    "X_dev = \\\n",
    "    X_dev.str.replace('http[s]?://(?:[a-zA-Z]|[0-9]|[$-_@.&+]|[!*\\(\\),]|(?:%[0-9a-fA-F][0-9a-fA-F]))+', \n",
    "                                '', regex=True)\n",
    "X_dev\n"
   ]
  },
  {
   "cell_type": "code",
   "execution_count": 8,
   "id": "132f174f",
   "metadata": {},
   "outputs": [
    {
     "data": {
      "text/plain": [
       "4394                              rip whitney houston. :(\n",
       "898     @tmhcuddly I'm so excited, we should definitel...\n",
       "2398    Yisss! ''bindingofissac ! Been waiting for ''x...\n",
       "906     Twitter Help Center | Why can&amp;''39;t I fol...\n",
       "2343    My mister is the best mister :) supportive, ki...\n",
       "                              ...                        \n",
       "1037    @marshyymiullow you have a weird DP, you know? :p\n",
       "2899                         @PhilRAWRLester okay then :)\n",
       "4549                                           2 bach :( \n",
       "2740    Look what arrived for me today... Super thanks...\n",
       "1690    Rly sad that I had to rush off when that was t...\n",
       "Name: tweet, Length: 2000, dtype: object"
      ]
     },
     "execution_count": 8,
     "metadata": {},
     "output_type": "execute_result"
    }
   ],
   "source": [
    "#code here\n",
    "X_test.replace(to_replace=\"\\#\", value=r\"\", regex=True, inplace=True)\n",
    "\n",
    "X_test = \\\n",
    "    X_test.str.replace('http[s]?://(?:[a-zA-Z]|[0-9]|[$-_@.&+]|[!*\\(\\),]|(?:%[0-9a-fA-F][0-9a-fA-F]))+', \n",
    "                                '', regex=True)\n",
    "X_test"
   ]
  },
  {
   "cell_type": "markdown",
   "id": "492ae463-b611-4292-9ad2-b778856bf8bc",
   "metadata": {
    "id": "492ae463-b611-4292-9ad2-b778856bf8bc"
   },
   "source": [
    "**1.6) Remove all stop words**"
   ]
  },
  {
   "cell_type": "code",
   "execution_count": 9,
   "id": "961d73fd-a662-46f2-85a2-83bf6b978189",
   "metadata": {
    "id": "961d73fd-a662-46f2-85a2-83bf6b978189"
   },
   "outputs": [
    {
     "data": {
      "text/plain": [
       "2389    @RafaelAllmark I've supporting since start ALW...\n",
       "4275    @KirkHerbstreit Braxton gone pro! :( I feel ba...\n",
       "2995    @WilliamHC3 Hi! Would like @imPastel concert? ...\n",
       "316                    @BOYBANDSFTCARA sure!!! Sorry :( x\n",
       "356     Good luck ''LizaMinnelli upcoming UK appearanc...\n",
       "                              ...                        \n",
       "4225              @Jenna_Marbles I wish I could've met :(\n",
       "4859         Computer ''sex? Count ! :) ''funny ''vintage\n",
       "3264              @ghostfinder worries :) I blame haha! X\n",
       "4845                     @FurretTails awww poor bunny. :(\n",
       "2732                               @Korku_3 thanks bro :)\n",
       "Name: tweet, Length: 8000, dtype: object"
      ]
     },
     "execution_count": 9,
     "metadata": {},
     "output_type": "execute_result"
    }
   ],
   "source": [
    "#code here\n",
    "stop = stopwords.words('english')\n",
    "X_dev = \\\n",
    "    X_dev.apply(lambda x: ' '.join([word for word in x.split() if word not in (stop)]))\n",
    "X_dev"
   ]
  },
  {
   "cell_type": "code",
   "execution_count": 10,
   "id": "449e622f",
   "metadata": {},
   "outputs": [
    {
     "data": {
      "text/plain": [
       "4394                              rip whitney houston. :(\n",
       "898            @tmhcuddly I'm excited, definitely meet :)\n",
       "2398    Yisss! ''bindingofissac ! Been waiting ''xboxo...\n",
       "906     Twitter Help Center | Why can&amp;''39;t I fol...\n",
       "2343    My mister best mister :) supportive, kind, abs...\n",
       "                              ...                        \n",
       "1037                   @marshyymiullow weird DP, know? :p\n",
       "2899                              @PhilRAWRLester okay :)\n",
       "4549                                            2 bach :(\n",
       "2740    Look arrived today... Super thanks Edwin Elven...\n",
       "1690    Rly sad I rush last time I would see everyone :-(\n",
       "Name: tweet, Length: 2000, dtype: object"
      ]
     },
     "execution_count": 10,
     "metadata": {},
     "output_type": "execute_result"
    }
   ],
   "source": [
    "#code here\n",
    "stop = stopwords.words('english')\n",
    "X_test = \\\n",
    "    X_test.apply(lambda x: ' '.join([word for word in x.split() if word not in (stop)]))\n",
    "X_test"
   ]
  },
  {
   "cell_type": "markdown",
   "id": "169bf8ad-f7ba-4e67-a1a0-92fcdd193ab9",
   "metadata": {
    "id": "169bf8ad-f7ba-4e67-a1a0-92fcdd193ab9"
   },
   "source": [
    "**1.7) Remove all punctuations**"
   ]
  },
  {
   "cell_type": "code",
   "execution_count": 11,
   "id": "774743e0-8cf0-4dbb-a6fa-006ff076bb9e",
   "metadata": {
    "id": "774743e0-8cf0-4dbb-a6fa-006ff076bb9e"
   },
   "outputs": [
    {
     "data": {
      "text/plain": [
       "2389    RafaelAllmark Ive supporting since start ALWAY...\n",
       "4275    KirkHerbstreit Braxton gone pro  I feel bad hi...\n",
       "2995    WilliamHC3 Hi Would like imPastel concert Let ...\n",
       "316                          BOYBANDSFTCARA sure Sorry  x\n",
       "356     Good luck LizaMinnelli upcoming UK appearances...\n",
       "                              ...                        \n",
       "4225                  Jenna_Marbles I wish I couldve met \n",
       "4859                   Computer sex Count   funny vintage\n",
       "3264                  ghostfinder worries  I blame haha X\n",
       "4845                         FurretTails awww poor bunny \n",
       "2732                                  Korku_3 thanks bro \n",
       "Name: tweet, Length: 8000, dtype: object"
      ]
     },
     "execution_count": 11,
     "metadata": {},
     "output_type": "execute_result"
    }
   ],
   "source": [
    "#code here\n",
    "X_dev = \\\n",
    "    X_dev.apply(lambda x: ' '.join([word for word in x.split() if word not in (stop)]))\n",
    "X_dev = X_dev.str.replace('[^\\w\\s]','', regex=True)\n",
    "X_dev\n"
   ]
  },
  {
   "cell_type": "code",
   "execution_count": 12,
   "id": "faffc17d",
   "metadata": {},
   "outputs": [
    {
     "data": {
      "text/plain": [
       "4394                                 rip whitney houston \n",
       "898                 tmhcuddly Im excited definitely meet \n",
       "2398    Yisss bindingofissac  Been waiting xboxone rel...\n",
       "906     Twitter Help Center  Why canamp39t I follow pe...\n",
       "2343    My mister best mister  supportive kind absolut...\n",
       "                              ...                        \n",
       "1037                       marshyymiullow weird DP know p\n",
       "2899                                 PhilRAWRLester okay \n",
       "4549                                              2 bach \n",
       "2740    Look arrived today Super thanks Edwin Elvena E...\n",
       "1690       Rly sad I rush last time I would see everyone \n",
       "Name: tweet, Length: 2000, dtype: object"
      ]
     },
     "execution_count": 12,
     "metadata": {},
     "output_type": "execute_result"
    }
   ],
   "source": [
    "#code here\n",
    "X_test = \\\n",
    "    X_test.apply(lambda x: ' '.join([word for word in x.split() if word not in (stop)]))\n",
    "X_test = X_test.str.replace('[^\\w\\s]','', regex=True)\n",
    "X_test"
   ]
  },
  {
   "cell_type": "markdown",
   "id": "b2f1af18-0c07-4ffb-994e-daead4740a53",
   "metadata": {
    "id": "b2f1af18-0c07-4ffb-994e-daead4740a53"
   },
   "source": [
    "**1.8) Apply stemming on the development & test datasets using Porter algorithm**"
   ]
  },
  {
   "cell_type": "code",
   "execution_count": 13,
   "id": "c84a52f6-a62a-4033-8d1d-239ff6904248",
   "metadata": {
    "id": "c84a52f6-a62a-4033-8d1d-239ff6904248"
   },
   "outputs": [
    {
     "data": {
      "text/plain": [
       "2389    rafaelallmark ive support sinc start alway ign...\n",
       "4275    kirkherbstreit braxton gone pro i feel bad him...\n",
       "2995    williamhc3 hi would like impastel concert let ...\n",
       "316                           boybandsftcara sure sorri x\n",
       "356     good luck lizaminnelli upcom uk appear garyjho...\n",
       "                              ...                        \n",
       "4225                      jenna_marbl i wish i couldv met\n",
       "4859                        comput sex count funni vintag\n",
       "3264                       ghostfind worri i blame haha x\n",
       "4845                           furrettail awww poor bunni\n",
       "2732                                    korku_3 thank bro\n",
       "Name: tweet, Length: 8000, dtype: object"
      ]
     },
     "execution_count": 13,
     "metadata": {},
     "output_type": "execute_result"
    }
   ],
   "source": [
    "#code here\n",
    "ps = PorterStemmer()\n",
    "\n",
    "def stem_sentences(sentence):\n",
    "    tokens = sentence.split()\n",
    "    stemmed_tokens = [ps.stem(token) for token in tokens]\n",
    "    return ' '.join(stemmed_tokens)\n",
    "\n",
    "X_dev = X_dev.apply(stem_sentences)\n",
    "X_dev\n"
   ]
  },
  {
   "cell_type": "code",
   "execution_count": 14,
   "id": "670dba48",
   "metadata": {},
   "outputs": [
    {
     "data": {
      "text/plain": [
       "4394                                  rip whitney houston\n",
       "898                       tmhcuddli im excit definit meet\n",
       "2398    yisss bindingofissac been wait xboxon releas w...\n",
       "906     twitter help center whi canamp39t i follow peo...\n",
       "2343    my mister best mister support kind absolut amaz 3\n",
       "                              ...                        \n",
       "1037                       marshyymiullow weird dp know p\n",
       "2899                                    philrawrlest okay\n",
       "4549                                               2 bach\n",
       "2740    look arriv today super thank edwin elvena emc ...\n",
       "1690         rli sad i rush last time i would see everyon\n",
       "Name: tweet, Length: 2000, dtype: object"
      ]
     },
     "execution_count": 14,
     "metadata": {},
     "output_type": "execute_result"
    }
   ],
   "source": [
    "X_test = X_test.apply(stem_sentences)\n",
    "X_test\n"
   ]
  },
  {
   "cell_type": "markdown",
   "id": "687e23ef-dafd-4183-b2f1-86089e281dd8",
   "metadata": {
    "id": "687e23ef-dafd-4183-b2f1-86089e281dd8"
   },
   "source": [
    "#### **Model training**"
   ]
  },
  {
   "cell_type": "markdown",
   "id": "0c40fa44-01ad-4788-98b9-9c8f0c1252ef",
   "metadata": {
    "id": "0c40fa44-01ad-4788-98b9-9c8f0c1252ef"
   },
   "source": [
    "**1.9) Create bag of words features for each tweet in the development dataset**"
   ]
  },
  {
   "cell_type": "code",
   "execution_count": 15,
   "id": "c17c6b99-9dfb-4d30-9e03-d596a9da880a",
   "metadata": {
    "id": "c17c6b99-9dfb-4d30-9e03-d596a9da880a"
   },
   "outputs": [
    {
     "name": "stdout",
     "output_type": "stream",
     "text": [
      "dev_x.shape= (8000, 14731)\n",
      "test_x.shape = (8000, 14731)\n"
     ]
    }
   ],
   "source": [
    "#code here\n",
    "vectorizer = CountVectorizer()\n",
    "dev_x = vectorizer.fit_transform(X_dev)\n",
    "test_x = vectorizer.transform(X_test)\n",
    "\n",
    "print(f\"dev_x.shape= {dev_x.shape}\")\n",
    "print(f\"test_x.shape = {dev_x.shape}\")\n"
   ]
  },
  {
   "cell_type": "markdown",
   "id": "4baf65cd-019b-4ff4-b93c-3ca8cfffca8e",
   "metadata": {
    "id": "4baf65cd-019b-4ff4-b93c-3ca8cfffca8e"
   },
   "source": [
    "**1.10) Train a supervised learning model of choice on the development dataset**"
   ]
  },
  {
   "cell_type": "code",
   "execution_count": 16,
   "id": "3433a6b0-408d-462e-9072-3495b21bc97b",
   "metadata": {
    "id": "3433a6b0-408d-462e-9072-3495b21bc97b"
   },
   "outputs": [
    {
     "data": {
      "text/plain": [
       "LogisticRegressionCV(max_iter=1000)"
      ]
     },
     "execution_count": 16,
     "metadata": {},
     "output_type": "execute_result"
    }
   ],
   "source": [
    "#code here\n",
    "model1 = LogisticRegressionCV(max_iter=1000)\n",
    "model1.fit(dev_x, y_dev)\n"
   ]
  },
  {
   "cell_type": "code",
   "execution_count": 17,
   "id": "8e163ff2",
   "metadata": {},
   "outputs": [
    {
     "name": "stdout",
     "output_type": "stream",
     "text": [
      "0.75\n"
     ]
    }
   ],
   "source": [
    "score_model1 = model1.score(test_x, y_test)\n",
    "print(score_model1)\n"
   ]
  },
  {
   "cell_type": "code",
   "execution_count": 18,
   "id": "b25228f6",
   "metadata": {},
   "outputs": [],
   "source": [
    " pred_regular = model1.predict(test_x)"
   ]
  },
  {
   "cell_type": "markdown",
   "id": "1c16c6f6-7ab2-4d7a-b9dc-098a72381340",
   "metadata": {
    "id": "1c16c6f6-7ab2-4d7a-b9dc-098a72381340"
   },
   "source": [
    "**1.11) Create TF-IDF features for each tweet in the development dataset**"
   ]
  },
  {
   "cell_type": "code",
   "execution_count": 19,
   "id": "7b417843-ffc4-4614-b2ef-964f8ec3e510",
   "metadata": {
    "id": "7b417843-ffc4-4614-b2ef-964f8ec3e510"
   },
   "outputs": [],
   "source": [
    "#code here\n",
    "tfIdfVectorizer=TfidfVectorizer(use_idf=True)\n",
    "tfIdf_x_train = tfIdfVectorizer.fit_transform(X_dev)\n",
    "tfIdf_x_test = tfIdfVectorizer.transform(X_test)\n"
   ]
  },
  {
   "cell_type": "markdown",
   "id": "ea3c9776-aad9-4eda-b3c2-d9f6b3e52427",
   "metadata": {
    "id": "ea3c9776-aad9-4eda-b3c2-d9f6b3e52427"
   },
   "source": [
    "**1.12) Train the same supervised learning algorithm on the development dataset with TF-IDF features**"
   ]
  },
  {
   "cell_type": "code",
   "execution_count": 20,
   "id": "b8c7fe8b-61de-4daa-a338-74295a4902ce",
   "metadata": {
    "id": "b8c7fe8b-61de-4daa-a338-74295a4902ce"
   },
   "outputs": [
    {
     "data": {
      "text/plain": [
       "LogisticRegressionCV(max_iter=1000)"
      ]
     },
     "execution_count": 20,
     "metadata": {},
     "output_type": "execute_result"
    }
   ],
   "source": [
    "#code here\n",
    "model2 = LogisticRegressionCV(max_iter=1000)\n",
    "model2.fit(tfIdf_x_train, y_dev)\n"
   ]
  },
  {
   "cell_type": "markdown",
   "id": "ab0129e7-a0ea-473e-9ad1-667b44a13a92",
   "metadata": {
    "id": "ab0129e7-a0ea-473e-9ad1-667b44a13a92"
   },
   "source": [
    "**1.13) Compare the performance of the two models on the test dataset**"
   ]
  },
  {
   "cell_type": "code",
   "execution_count": 21,
   "id": "a64ca176-dab8-4965-a85d-dcf9dc013717",
   "metadata": {
    "id": "a64ca176-dab8-4965-a85d-dcf9dc013717"
   },
   "outputs": [
    {
     "name": "stdout",
     "output_type": "stream",
     "text": [
      "0.7595\n"
     ]
    }
   ],
   "source": [
    "#code here\n",
    "score_model2 = model2.score(tfIdf_x_test, y_test)\n",
    "print(score_model2)\n"
   ]
  },
  {
   "cell_type": "code",
   "execution_count": 22,
   "id": "accf33d8",
   "metadata": {},
   "outputs": [],
   "source": [
    " pred_tfidf = model2.predict(test_x)"
   ]
  },
  {
   "cell_type": "code",
   "execution_count": 23,
   "id": "6ce59d04",
   "metadata": {},
   "outputs": [
    {
     "name": "stdout",
     "output_type": "stream",
     "text": [
      "Logistic Regression without TF-IDF Features = 75.0%\n",
      "Logistic Regression with TF-IDF Features = 75.95%\n"
     ]
    }
   ],
   "source": [
    "print(f\"Logistic Regression without TF-IDF Features = {score_model1 * 100}%\")\n",
    "print(f\"Logistic Regression with TF-IDF Features = {round(score_model2 * 100, 2)}%\")\n"
   ]
  },
  {
   "cell_type": "code",
   "execution_count": 24,
   "id": "2e728221",
   "metadata": {},
   "outputs": [],
   "source": [
    "from sklearn import metrics"
   ]
  },
  {
   "cell_type": "code",
   "execution_count": 25,
   "id": "7c94b89e",
   "metadata": {},
   "outputs": [],
   "source": [
    "report = metrics.classification_report(\n",
    "        y_test, pred_regular,  output_dict=True)"
   ]
  },
  {
   "cell_type": "code",
   "execution_count": 26,
   "id": "1c1a912b",
   "metadata": {},
   "outputs": [
    {
     "data": {
      "text/plain": [
       "{'0': {'precision': 0.7415094339622641,\n",
       "  'recall': 0.7766798418972332,\n",
       "  'f1-score': 0.7586872586872586,\n",
       "  'support': 1012},\n",
       " '1': {'precision': 0.7595744680851064,\n",
       "  'recall': 0.7226720647773279,\n",
       "  'f1-score': 0.7406639004149378,\n",
       "  'support': 988},\n",
       " 'accuracy': 0.75,\n",
       " 'macro avg': {'precision': 0.7505419510236853,\n",
       "  'recall': 0.7496759533372805,\n",
       "  'f1-score': 0.7496755795510982,\n",
       "  'support': 2000},\n",
       " 'weighted avg': {'precision': 0.7504335608189483,\n",
       "  'recall': 0.75,\n",
       "  'f1-score': 0.7497837197007321,\n",
       "  'support': 2000}}"
      ]
     },
     "execution_count": 26,
     "metadata": {},
     "output_type": "execute_result"
    }
   ],
   "source": [
    "report"
   ]
  },
  {
   "cell_type": "code",
   "execution_count": 27,
   "id": "db33480c",
   "metadata": {},
   "outputs": [],
   "source": [
    "report1 = metrics.classification_report(\n",
    "        y_test, pred_tfidf,  output_dict=True)"
   ]
  },
  {
   "cell_type": "code",
   "execution_count": 28,
   "id": "67379c8c",
   "metadata": {},
   "outputs": [
    {
     "data": {
      "text/plain": [
       "{'0': {'precision': 0.750968992248062,\n",
       "  'recall': 0.7658102766798419,\n",
       "  'f1-score': 0.7583170254403131,\n",
       "  'support': 1012},\n",
       " '1': {'precision': 0.7551652892561983,\n",
       "  'recall': 0.7398785425101214,\n",
       "  'f1-score': 0.7474437627811861,\n",
       "  'support': 988},\n",
       " 'accuracy': 0.753,\n",
       " 'macro avg': {'precision': 0.7530671407521301,\n",
       "  'recall': 0.7528444095949817,\n",
       "  'f1-score': 0.7528803941107496,\n",
       "  'support': 2000},\n",
       " 'weighted avg': {'precision': 0.7530419629700814,\n",
       "  'recall': 0.753,\n",
       "  'f1-score': 0.7529456336867043,\n",
       "  'support': 2000}}"
      ]
     },
     "execution_count": 28,
     "metadata": {},
     "output_type": "execute_result"
    }
   ],
   "source": [
    "report1"
   ]
  },
  {
   "cell_type": "code",
   "execution_count": 29,
   "id": "0f726bec",
   "metadata": {},
   "outputs": [
    {
     "name": "stdout",
     "output_type": "stream",
     "text": [
      "Logistic Regression without TF-IDF Features accuracy = 0.75     f1_score = 0.7496755795510982, \n"
     ]
    }
   ],
   "source": [
    "print(f\"Logistic Regression without TF-IDF Features accuracy = {report['accuracy']} \\\n",
    "    f1_score = {report['macro avg']['f1-score']}, \")"
   ]
  },
  {
   "cell_type": "code",
   "execution_count": 30,
   "id": "bd116bca",
   "metadata": {},
   "outputs": [
    {
     "name": "stdout",
     "output_type": "stream",
     "text": [
      "Logistic Regression with TF-IDF Features accuracy = 0.753     f1_score = 0.7528803941107496, \n"
     ]
    }
   ],
   "source": [
    "print(f\"Logistic Regression with TF-IDF Features accuracy = {report1['accuracy']} \\\n",
    "    f1_score = {report1['macro avg']['f1-score']}, \")"
   ]
  },
  {
   "cell_type": "markdown",
   "id": "1f5fd367",
   "metadata": {},
   "source": [
    "## TF-IDF scores have an accuracy of 75.95% and the non-tf-idf has a 75% accuracy, so the TFIDF slightly outperforms the first model. \n",
    "## also f1 score of tf-idf model is little higher than the one without.  Same applies to precision and recall\n"
   ]
  },
  {
   "cell_type": "code",
   "execution_count": 31,
   "id": "01ab7119",
   "metadata": {},
   "outputs": [
    {
     "name": "stdout",
     "output_type": "stream",
     "text": [
      "Logistic Regression without TF-IDF Features precision = 0.7595744680851064     recall = 0.7226720647773279, \n"
     ]
    }
   ],
   "source": [
    "print(f\"Logistic Regression without TF-IDF Features precision = {report['1']['precision']} \\\n",
    "    recall = {report['1']['recall']}, \")"
   ]
  },
  {
   "cell_type": "code",
   "execution_count": 32,
   "id": "c98ea1b5",
   "metadata": {},
   "outputs": [
    {
     "name": "stdout",
     "output_type": "stream",
     "text": [
      "Logistic Regression with TF-IDF Features precision = 0.7551652892561983     recall = 0.7398785425101214, \n"
     ]
    }
   ],
   "source": [
    "print(f\"Logistic Regression with TF-IDF Features precision = {report1['1']['precision']} \\\n",
    "    recall = {report1['1']['recall']}, \")"
   ]
  },
  {
   "cell_type": "code",
   "execution_count": 33,
   "id": "c0a73e27",
   "metadata": {},
   "outputs": [],
   "source": [
    "# clearly the classification report shows that the model with tf idf features performs better"
   ]
  },
  {
   "cell_type": "markdown",
   "id": "5468cb80",
   "metadata": {},
   "source": [
    "## model without tf-idf"
   ]
  },
  {
   "cell_type": "code",
   "execution_count": 34,
   "id": "3d050d02",
   "metadata": {},
   "outputs": [],
   "source": [
    "import seaborn as sns\n"
   ]
  },
  {
   "cell_type": "code",
   "execution_count": 35,
   "id": "00d13da1",
   "metadata": {},
   "outputs": [
    {
     "data": {
      "text/plain": [
       "<AxesSubplot:>"
      ]
     },
     "execution_count": 35,
     "metadata": {},
     "output_type": "execute_result"
    },
    {
     "data": {
      "image/png": "[encoded data removed]",
      "text/plain": [
       "<Figure size 432x288 with 2 Axes>"
      ]
     },
     "metadata": {
      "needs_background": "light"
     },
     "output_type": "display_data"
    }
   ],
   "source": [
    "sns.heatmap(pd.DataFrame(report).iloc[:-1, :].T, annot=True)"
   ]
  },
  {
   "cell_type": "markdown",
   "id": "8d34e914",
   "metadata": {},
   "source": [
    "## model with tf-idf"
   ]
  },
  {
   "cell_type": "code",
   "execution_count": 36,
   "id": "3b9d8a4a",
   "metadata": {},
   "outputs": [
    {
     "data": {
      "text/plain": [
       "<AxesSubplot:>"
      ]
     },
     "execution_count": 36,
     "metadata": {},
     "output_type": "execute_result"
    },
    {
     "data": {
      "image/png": "[encoded data removed]",
      "text/plain": [
       "<Figure size 432x288 with 2 Axes>"
      ]
     },
     "metadata": {
      "needs_background": "light"
     },
     "output_type": "display_data"
    }
   ],
   "source": [
    "sns.heatmap(pd.DataFrame(report1).iloc[:-1, :].T, annot=True)"
   ]
  },
  {
   "cell_type": "code",
   "execution_count": null,
   "id": "4f222480",
   "metadata": {},
   "outputs": [],
   "source": []
  }
 ],
 "metadata": {
  "colab": {
   "name": "HW4-NLP.ipynb",
   "provenance": []
  },
  "kernelspec": {
   "display_name": "Python 3 (ipykernel)",
   "language": "python",
   "name": "python3"
  },
  "language_info": {
   "codemirror_mode": {
    "name": "ipython",
    "version": 3
   },
   "file_extension": ".py",
   "mimetype": "text/x-python",
   "name": "python",
   "nbconvert_exporter": "python",
   "pygments_lexer": "ipython3",
   "version": "3.9.7"
  }
 },
 "nbformat": 4,
 "nbformat_minor": 5
}
